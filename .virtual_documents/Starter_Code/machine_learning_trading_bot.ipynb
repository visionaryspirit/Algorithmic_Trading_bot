


# Imports
import pandas as pd
import numpy as np
from pathlib import Path
import hvplot.pandas
import matplotlib.pyplot as plt
from sklearn import svm
from sklearn.preprocessing import StandardScaler
from pandas.tseries.offsets import DateOffset
from sklearn.metrics import classification_report








# Import the OHLCV dataset into a Pandas Dataframe
ohlcv_df = pd.read_csv(
    Path("./Resources/emerging_markets_ohlcv.csv"), 
    index_col='date', 
    infer_datetime_format=True, 
    parse_dates=True
)

# Review the DataFrame
ohlcv_df.head()


# Filter the date index and close columns
signals_df = ohlcv_df.loc[:, ["close"]]

# Use the pct_change function to generate returns from close prices
signals_df["Actual Returns"] = signals_df["close"].pct_change()

# Drop all NaN values from the DataFrame
signals_df = signals_df.dropna()

# Review the DataFrame
display(signals_df.head())
display(signals_df.tail())





# Set the short window and long window
short_window = 4
long_window = 100

# Generate the fast and slow simple moving averages (4 and 100 days, respectively)
signals_df['SMA_Fast'] = signals_df['close'].rolling(window=short_window).mean()
signals_df['SMA_Slow'] = signals_df['close'].rolling(window=long_window).mean()

signals_df = signals_df.dropna()

# Review the DataFrame
display(signals_df.head())
display(signals_df.tail())


# Initialize the new Signal column
signals_df['Signal'] = 0.0

# When Actual Returns are greater than or equal to 0, generate signal to buy stock long
signals_df.loc[(signals_df['Actual Returns'] >= 0), 'Signal'] = 1

# When Actual Returns are less than 0, generate signal to sell stock short
signals_df.loc[(signals_df['Actual Returns'] < 0), 'Signal'] = -1

# Review the DataFrame
display(signals_df.head())
display(signals_df.tail())


signals_df['Signal'].value_counts()


# Calculate the strategy returns and add them to the signals_df DataFrame
signals_df['Strategy Returns'] = signals_df['Actual Returns'] * signals_df['Signal'].shift()

# Review the DataFrame
display(signals_df.head())
display(signals_df.tail())


# Plot Strategy Returns to examine performance
(1 + signals_df['Strategy Returns']).cumprod().plot()





# Assign a copy of the sma_fast and sma_slow columns to a features DataFrame called X
X = signals_df[['SMA_Fast', 'SMA_Slow']].shift().dropna()

# Review the DataFrame
X.head()


# Create the target set selecting the Signal column and assiging it to y
y = signals_df['Signal']

# Review the value counts
y.value_counts()


# Select the start of the training period
training_begin = X.index.min()

# Display the training begin date
print(training_begin)


# Select the ending period for the training data with an offset of 3 months
training_end = X.index.min() + DateOffset(months=3)

# Display the training end date
print(training_end)


# Generate the X_train and y_train DataFrames
X_train = X.loc[training_begin:training_end]
y_train = y.loc[training_begin:training_end]

# Review the X_train DataFrame
X_train.head()


# Generate the X_test and y_test DataFrames
X_test = X.loc[training_end+DateOffset(hours=1):]
y_test = y.loc[training_end+DateOffset(hours=1):]

# Review the X_test DataFrame
X_test.head()


# Scale the features DataFrames

# Create a StandardScaler instance
scaler = StandardScaler()

# Apply the scaler model to fit the X-train data
X_scaler = scaler.fit(X_train)

# Transform the X_train and X_test DataFrames using the X_scaler
X_train_scaled = X_scaler.transform(X_train)
X_test_scaled = X_scaler.transform(X_test)





# From SVM, instantiate SVC classifier model instance
svm_model = svm.SVC()
 
# Fit the model to the data using the training data
svm_model = svm_model.fit(X_train_scaled, y_train)
 
# Use the testing data to make the model predictions
svm_pred = svm_model.predict(X_test_scaled)

# Review the model's predicted values
svm_pred





# Use a classification report to evaluate the model using the predictions and testing data
svm_testing_report = classification_report(y_test, svm_pred)

# Print the classification report
print(svm_testing_report)





# Create a new empty predictions DataFrame:

# Create a predictions DataFrame
predictions_df = pd.DataFrame(index=X_test.index)

# Add the SVM model predictions to the DataFrame
predictions_df['Predicted'] = svm_pred

# Add the actual returns to the DataFrame
predictions_df['Actual Returns'] = signals_df['Actual Returns']

# Add the strategy returns to the DataFrame
predictions_df['Strategy Returns'] = signals_df['Strategy Returns']

# Review the DataFrame
display(predictions_df.head())
display(predictions_df.tail())





# Plot the actual returns versus the strategy returns
baseline_plot = (1 + predictions_df[['Actual Returns', 'Strategy Returns']]).cumprod().plot(title="Actual Returns vs. Strategy Returns - Baseline")
baseline_plot.figure.savefig(Path('Resources/actual_vs_strategy_returns_baseline.png'))
baseline_plot











# List of training periods in months
training_periods = [6, 9, 12, 15]  

for period in training_periods:
    # Select the ending period for the training data with an offset of the specified number of months
    training_end = X.index.min() + DateOffset(months=period)
    
    subset_X_train = X.loc[training_begin:training_end]
    subset_y_train = y.loc[training_begin:training_end]
    
    X_test = X.loc[training_end+DateOffset(hours=1):]
    y_test = y.loc[training_end+DateOffset(hours=1):]
    
    scaler = StandardScaler()
    X_scaler = scaler.fit(subset_X_train)
    X_train_scaled = X_scaler.transform(subset_X_train)
    X_test_scaled = X_scaler.transform(X_test)
    
    svm_model = svm.SVC()
    svm_model = svm_model.fit(X_train_scaled, subset_y_train)
    svm_pred = svm_model.predict(X_test_scaled)
    
    svm_testing_report = classification_report(y_test, svm_pred, zero_division=1)
    print(f"Training Period: {period} months")
    print(svm_testing_report)
    
    predictions_df = pd.DataFrame(index=X_test.index)
    predictions_df['Predicted'] = svm_pred
    predictions_df['Actual Returns'] = signals_df.loc[X_test.index, 'Actual Returns']
    predictions_df['Strategy Returns'] = signals_df.loc[X_test.index, 'Strategy Returns']
    
    tuned_training_dataset_plots = (1 + predictions_df[['Actual Returns', 'Strategy Returns']]).cumprod().plot(figsize=(15, 7), title=f"Actual Returns vs. Strategy Returns - Training Period: {period} months")
    tuned_training_dataset_plots.figure.savefig(Path(f"Resources/actual_vs_strategy_returns_{period}_months.png"))
    tuned_training_dataset_plots





# List of SMA input features 
sma_windows = [(5, 120), (10, 150), (20, 200)]  

for short, long in sma_windows:
    # Generate the fast and slow simple moving averages
    signals_df['SMA_Fast'] = signals_df['close'].rolling(window=short).mean()
    signals_df['SMA_Slow'] = signals_df['close'].rolling(window=long).mean()

    signals_df = signals_df.dropna()

    X = signals_df[['SMA_Fast', 'SMA_Slow']].shift().dropna()
    y = signals_df['Signal']
    
    training_begin = X.index.min()
    training_end = X.index.min() + DateOffset(months=6)

    X_train = X.loc[training_begin:training_end]
    y_train = y.loc[training_begin:training_end]
    X_test = X.loc[training_end+DateOffset(hours=1):]
    y_test = y.loc[training_end+DateOffset(hours=1):]

    scaler = StandardScaler()
    X_scaler = scaler.fit(X_train)
    X_train_scaled = X_scaler.transform(X_train)
    X_test_scaled = X_scaler.transform(X_test)

    svm_model = svm.SVC()
    svm_model = svm_model.fit(X_train_scaled, y_train)
    svm_pred = svm_model.predict(X_test_scaled)

    svm_testing_report = classification_report(y_test, svm_pred, zero_division=1)
    print(f"SMA Window: {short}/{long}")
    print(svm_testing_report)

    predictions_df = pd.DataFrame(index=X_test.index)
    predictions_df['Predicted'] = svm_pred
    predictions_df['Actual Returns'] = signals_df.loc[X_test.index, 'Actual Returns']
    predictions_df['Strategy Returns'] = signals_df.loc[X_test.index, 'Strategy Returns']

    adjusted_sma_plots = (1 + predictions_df[['Actual Returns', 'Strategy Returns']]).cumprod().plot(figsize=(15, 7), title=f"Actual Returns vs. Strategy Returns - SMA Window: {short}/{long}")
    adjusted_sma_plots.figure.savefig(Path(f"Resources/actual_vs_strategy_returns_sma_{short}_{long}.png"))
    adjusted_sma_plots











# Import a new classifier from SKLearn
from sklearn.ensemble import AdaBoostClassifier
# Initiate the model instance
model = AdaBoostClassifier()





# Fit the model using the training data
model = model.fit(X_train_scaled, y_train)

# Use the testing dataset to generate the predictions for the new model
pred = model.predict(X_test_scaled)

# Review the model's predicted values
pred





# Use a classification report to evaluate the model using the predictions and testing data

ada_testing_report = classification_report(y_test, pred)

# Print the classification report

print(ada_testing_report)


# Create a new empty predictions DataFrame:

# Create a predictions DataFrame
ada_predictions_df = pd.DataFrame(index=X_test.index)

# Add the AdaBoost model predictions to the DataFrame
ada_predictions_df['Predicted'] = pred

# Add the actual returns to the DataFrame
ada_predictions_df['Actual Returns'] = signals_df['Actual Returns']

# Add the strategy returns to the DataFrame
ada_predictions_df['Strategy Returns'] = signals_df['Strategy Returns']

# Review the DataFrame

display(ada_predictions_df.head())
display(ada_predictions_df.tail())


# Plot the actual returns versus the strategy returns
ada_plot = (1 + ada_predictions_df[['Actual Returns', 'Strategy Returns']]).cumprod().plot(title="Actual Returns vs. Strategy Returns - AdaBoost Classifier")
ada_plot.figure.savefig(Path('Resources/actual_vs_strategy_returns_adaboostclassifier.png'))
ada_plot



